{
  "cells": [
    {
      "cell_type": "markdown",
      "metadata": {
        "id": "view-in-github",
        "colab_type": "text"
      },
      "source": [
        "<a href=\"https://colab.research.google.com/github/Vinz1098/Discord_PudgyPenguins/blob/main/Step_1%3A1_Extracted_Discord_Phase_4_and_5.ipynb\" target=\"_parent\"><img src=\"https://colab.research.google.com/assets/colab-badge.svg\" alt=\"Open In Colab\"/></a>"
      ]
    },
    {
      "cell_type": "code",
      "execution_count": null,
      "metadata": {
        "colab": {
          "base_uri": "https://localhost:8080/"
        },
        "id": "QLvR-8LZ4pq_",
        "outputId": "5c47b86d-4e45-4a77-a0fb-c385dd4485b3"
      },
      "outputs": [
        {
          "name": "stdout",
          "output_type": "stream",
          "text": [
            "Requirement already satisfied: requests in /usr/local/lib/python3.10/dist-packages (2.31.0)\n",
            "Requirement already satisfied: charset-normalizer<4,>=2 in /usr/local/lib/python3.10/dist-packages (from requests) (3.3.2)\n",
            "Requirement already satisfied: idna<4,>=2.5 in /usr/local/lib/python3.10/dist-packages (from requests) (3.6)\n",
            "Requirement already satisfied: urllib3<3,>=1.21.1 in /usr/local/lib/python3.10/dist-packages (from requests) (2.0.7)\n",
            "Requirement already satisfied: certifi>=2017.4.17 in /usr/local/lib/python3.10/dist-packages (from requests) (2024.2.2)\n"
          ]
        }
      ],
      "source": [
        "!pip install requests\n"
      ]
    },
    {
      "cell_type": "code",
      "execution_count": null,
      "metadata": {
        "colab": {
          "base_uri": "https://localhost:8080/"
        },
        "id": "bZoFZIaKr86k",
        "outputId": "d4f4338d-47be-4b4e-f0b9-0a8dc981bde6"
      },
      "outputs": [
        {
          "name": "stdout",
          "output_type": "stream",
          "text": [
            "Messages successfully saved to discord_huddlemessages_may2022_to_jul2022_with_users.xlsx\n"
          ]
        }
      ],
      "source": [
        "import requests\n",
        "import pandas as pd\n",
        "from datetime import datetime\n",
        "\n",
        "def retrieve_messages_with_user(channel_id, start_date, end_date):\n",
        "    headers = {\n",
        "        'Authorization': 'MTE2NTk1NzY5MzcwMjQxODQ0Mw.GOmqj0.l9llP1irQfGlhpOWXvtqVyuBRivPwgosxAhqBA'  # Replace with your bot token\n",
        "    }\n",
        "\n",
        "    # Convert start_date and end_date to timestamp\n",
        "    start_timestamp = int(datetime.strptime(start_date, '%Y-%m-%d').timestamp())\n",
        "    end_timestamp = int(datetime.strptime(end_date, '%Y-%m-%d').timestamp())\n",
        "\n",
        "    url = f'https://discord.com/api/v9/channels/{channel_id}/messages'\n",
        "    messages_data = []\n",
        "    params = {\n",
        "        'limit': 100,  # Number of messages per request, adjust as needed\n",
        "    }\n",
        "\n",
        "    while True:\n",
        "        r = requests.get(url, headers=headers, params=params)\n",
        "        if r.status_code == 200:\n",
        "            json_data = r.json()\n",
        "            if not json_data:\n",
        "                break  # Break the loop if no more messages\n",
        "\n",
        "            for message in json_data:\n",
        "                timestamp = int(datetime.fromisoformat(message['timestamp']).timestamp())\n",
        "                if start_timestamp <= timestamp <= end_timestamp:\n",
        "                    content = message['content']\n",
        "                    user_id = message['author']['id'] if 'author' in message else None  # Get user ID\n",
        "                    messages_data.append({'Timestamp': message['timestamp'], 'Content': content, 'User_ID': user_id})\n",
        "\n",
        "                # Stop if messages are beyond the target date range\n",
        "                if timestamp < start_timestamp:\n",
        "                    return messages_data\n",
        "\n",
        "            params['before'] = json_data[-1]['id']  # Set the 'before' parameter for pagination\n",
        "        else:\n",
        "            print(f\"Failed to retrieve messages. Status code: {r.status_code}\")\n",
        "            return []\n",
        "\n",
        "    return messages_data\n",
        "\n",
        "# Define the target date range for extraction\n",
        "start_date = '2022-05-01'\n",
        "end_date = '2022-07-31'\n",
        "\n",
        "messages = retrieve_messages_with_user('867732042325688350', start_date, end_date)\n",
        "\n",
        "# Convert retrieved messages to DataFrame\n",
        "df = pd.DataFrame(messages)\n",
        "\n",
        "# Export to Excel\n",
        "file_name = 'discord_huddlemessages_may2022_to_jul2022_with_users.xlsx'  # Change the file name if needed\n",
        "df.to_excel(file_name, index=False)\n",
        "print(f\"Messages successfully saved to {file_name}\")\n"
      ]
    },
    {
      "cell_type": "code",
      "execution_count": null,
      "metadata": {
        "id": "Y3qJ5YHToj8-"
      },
      "outputs": [],
      "source": [
        "import requests\n",
        "import pandas as pd\n",
        "from datetime import datetime\n",
        "\n",
        "def retrieve_messages_with_user_within_date_range(channel_id, start_date, end_date):\n",
        "    headers = {\n",
        "        'Authorization': 'MTE2NTk1NzY5MzcwMjQxODQ0Mw.GOmqj0.l9llP1irQfGlhpOWXvtqVyuBRivPwgosxAhqBA'  # Replace with your bot token\n",
        "    }\n",
        "\n",
        "    # Convert start_date and end_date to timestamp\n",
        "    start_timestamp = int(datetime.strptime(start_date, '%Y-%m-%d').timestamp())\n",
        "    end_timestamp = int(datetime.strptime(end_date, '%Y-%m-%d').timestamp())\n",
        "\n",
        "    url = f'https://discord.com/api/v9/channels/{channel_id}/messages'\n",
        "    messages_data = []\n",
        "    params = {\n",
        "        'limit': 100,  # Number of messages per request, adjust as needed\n",
        "    }\n",
        "\n",
        "    while True:\n",
        "        r = requests.get(url, headers=headers, params=params)\n",
        "        if r.status_code == 200:\n",
        "            json_data = r.json()\n",
        "            if not json_data:\n",
        "                break  # Break the loop if no more messages\n",
        "\n",
        "            for message in json_data:\n",
        "                timestamp = int(datetime.fromisoformat(message['timestamp']).timestamp())\n",
        "                if start_timestamp <= timestamp <= end_timestamp:\n",
        "                    content = message['content']\n",
        "                    user_id = message['author']['id'] if 'author' in message else None  # Get user ID\n",
        "                    messages_data.append({'Timestamp': message['timestamp'], 'Content': content, 'User_ID': user_id})\n",
        "\n",
        "                # Stop if messages are beyond the target date range\n",
        "                if timestamp < start_timestamp:\n",
        "                    return messages_data\n",
        "\n",
        "            params['before'] = json_data[-1]['id']  # Set the 'before' parameter for pagination\n",
        "        else:\n",
        "            print(f\"Failed to retrieve messages. Status code: {r.status_code}\")\n",
        "            return []\n",
        "\n",
        "    return messages_data\n",
        "\n",
        "# Define the target date range for extraction\n",
        "start_date = '2022-08-01'\n",
        "end_date = '2022-12-31'\n",
        "\n",
        "messages = retrieve_messages_with_user_within_date_range('867732042325688350', start_date, end_date)\n",
        "\n",
        "# Convert retrieved messages to DataFrame\n",
        "df = pd.DataFrame(messages)\n",
        "\n",
        "# Export to Excel\n",
        "file_name = 'discord_huddlemessages_Aug2022_to_Dec2022_with_users.xlsx'  # Change the file name if needed\n",
        "df.to_excel(file_name, index=False)\n",
        "print(f\"Messages successfully saved to {file_name}\")\n"
      ]
    },
    {
      "cell_type": "code",
      "execution_count": null,
      "metadata": {
        "colab": {
          "background_save": true
        },
        "id": "AKbRNTXX1EfK",
        "outputId": "26a1bfa0-e822-4960-be15-2dc5acdccb0f"
      },
      "outputs": [
        {
          "name": "stdout",
          "output_type": "stream",
          "text": [
            "Messages successfully saved to discord_huddlemessages_jan2023.xlsx\n"
          ]
        }
      ],
      "source": [
        "import requests\n",
        "import pandas as pd\n",
        "from datetime import datetime\n",
        "\n",
        "def retrieve_messages_with_user(channel_id, start_date, end_date):\n",
        "    headers = {\n",
        "        'Authorization': 'MTE2NTk1NzY5MzcwMjQxODQ0Mw.GOmqj0.l9llP1irQfGlhpOWXvtqVyuBRivPwgosxAhqBA'  # Replace with your bot token\n",
        "    }\n",
        "\n",
        "    # Convert start_date and end_date to timestamp\n",
        "    start_timestamp = int(datetime.strptime(start_date, '%Y-%m-%d').timestamp())\n",
        "    end_timestamp = int(datetime.strptime(end_date, '%Y-%m-%d').timestamp())\n",
        "\n",
        "    url = f'https://discord.com/api/v9/channels/{channel_id}/messages'\n",
        "    messages_data = []\n",
        "    params = {\n",
        "        'limit': 100,  # Number of messages per request, adjust as needed\n",
        "    }\n",
        "\n",
        "    while True:\n",
        "        r = requests.get(url, headers=headers, params=params)\n",
        "        if r.status_code == 200:\n",
        "            json_data = r.json()\n",
        "            if not json_data:\n",
        "                break  # Break the loop if no more messages\n",
        "\n",
        "            for message in json_data:\n",
        "                timestamp = int(datetime.fromisoformat(message['timestamp']).timestamp())\n",
        "                if start_timestamp <= timestamp <= end_timestamp:\n",
        "                    content = message['content']\n",
        "                    user_id = message['author']['id'] if 'author' in message else None  # Get user ID\n",
        "                    messages_data.append({'Timestamp': message['timestamp'], 'Content': content, 'User_ID': user_id})\n",
        "\n",
        "                # Stop if messages are beyond the target date range\n",
        "                if timestamp < start_timestamp:\n",
        "                    return messages_data\n",
        "\n",
        "            params['before'] = json_data[-1]['id']  # Set the 'before' parameter for pagination\n",
        "        else:\n",
        "            print(f\"Failed to retrieve messages. Status code: {r.status_code}\")\n",
        "            return []\n",
        "\n",
        "    return messages_data\n",
        "\n",
        "# Define the target date range for extraction\n",
        "start_date = '2023-01-01'\n",
        "end_date = '2023-01-31'\n",
        "\n",
        "messages = retrieve_messages_with_user('867732042325688350', start_date, end_date)\n",
        "\n",
        "# Convert retrieved messages to DataFrame\n",
        "df = pd.DataFrame(messages)\n",
        "\n",
        "# Export to Excel\n",
        "file_name = 'discord_huddlemessages_jan2023.xlsx'  # Change the file name if needed\n",
        "df.to_excel(file_name, index=False)\n",
        "print(f\"Messages successfully saved to {file_name}\")\n"
      ]
    },
    {
      "cell_type": "code",
      "execution_count": null,
      "metadata": {
        "colab": {
          "base_uri": "https://localhost:8080/"
        },
        "id": "jo8ve7wZRr4y",
        "outputId": "213025fd-ed01-4a3b-ff15-94490390ddc8"
      },
      "outputs": [
        {
          "output_type": "stream",
          "name": "stdout",
          "text": [
            "Messages successfully saved to discord_huddlemessages_Feb2023_to_May2023_with_users.xlsx\n"
          ]
        }
      ],
      "source": [
        "import requests\n",
        "import pandas as pd\n",
        "from datetime import datetime\n",
        "\n",
        "def retrieve_messages_with_user(channel_id, start_date, end_date):\n",
        "    headers = {\n",
        "        'Authorization': 'MTE2NTk1NzY5MzcwMjQxODQ0Mw.GOmqj0.l9llP1irQfGlhpOWXvtqVyuBRivPwgosxAhqBA'  # Replace with your bot token\n",
        "    }\n",
        "\n",
        "    # Convert start_date and end_date to timestamp\n",
        "    start_timestamp = int(datetime.strptime(start_date, '%Y-%m-%d').timestamp())\n",
        "    end_timestamp = int(datetime.strptime(end_date, '%Y-%m-%d').timestamp())\n",
        "\n",
        "    url = f'https://discord.com/api/v9/channels/{channel_id}/messages'\n",
        "    messages_data = []\n",
        "    params = {\n",
        "        'limit': 100,  # Number of messages per request, adjust as needed\n",
        "    }\n",
        "\n",
        "    while True:\n",
        "        r = requests.get(url, headers=headers, params=params)\n",
        "        if r.status_code == 200:\n",
        "            json_data = r.json()\n",
        "            if not json_data:\n",
        "                break  # Break the loop if no more messages\n",
        "\n",
        "            for message in json_data:\n",
        "                timestamp = int(datetime.fromisoformat(message['timestamp']).timestamp())\n",
        "                if start_timestamp <= timestamp <= end_timestamp:\n",
        "                    content = message['content']\n",
        "                    user_id = message['author']['id'] if 'author' in message else None  # Get user ID\n",
        "                    messages_data.append({'Timestamp': message['timestamp'], 'Content': content, 'User_ID': user_id})\n",
        "\n",
        "                # Stop if messages are beyond the target date range\n",
        "                if timestamp < start_timestamp:\n",
        "                    return messages_data\n",
        "\n",
        "            params['before'] = json_data[-1]['id']  # Set the 'before' parameter for pagination\n",
        "        else:\n",
        "            print(f\"Failed to retrieve messages. Status code: {r.status_code}\")\n",
        "            return []\n",
        "\n",
        "    return messages_data\n",
        "\n",
        "# Define the target date range for extraction\n",
        "start_date = '2023-02-01'\n",
        "end_date = '2023-05-31'\n",
        "\n",
        "messages = retrieve_messages_with_user('867732042325688350', start_date, end_date)\n",
        "\n",
        "# Convert retrieved messages to DataFrame\n",
        "df = pd.DataFrame(messages)\n",
        "\n",
        "# Export to Excel\n",
        "file_name = 'discord_huddlemessages_Feb2023_to_May2023_with_users.xlsx'  # Change the file name if needed\n",
        "df.to_excel(file_name, index=False)\n",
        "print(f\"Messages successfully saved to {file_name}\")\n"
      ]
    },
    {
      "cell_type": "code",
      "execution_count": null,
      "metadata": {
        "colab": {
          "base_uri": "https://localhost:8080/"
        },
        "id": "aTIvnhH-x5q_",
        "outputId": "918d7b7d-72f3-4281-a716-eae82ca2b3c0"
      },
      "outputs": [
        {
          "output_type": "stream",
          "name": "stdout",
          "text": [
            "Messages successfully saved to discord_huddlemessages_june2023_to_Nov2023_with_users.xlsx\n"
          ]
        }
      ],
      "source": [
        "import requests\n",
        "import pandas as pd\n",
        "from datetime import datetime\n",
        "\n",
        "def retrieve_messages_with_user(channel_id, start_date, end_date):\n",
        "    headers = {\n",
        "        'Authorization': 'MTE2NTk1NzY5MzcwMjQxODQ0Mw.GOmqj0.l9llP1irQfGlhpOWXvtqVyuBRivPwgosxAhqBA'  # Replace with your bot token\n",
        "    }\n",
        "\n",
        "    # Convert start_date and end_date to timestamp\n",
        "    start_timestamp = int(datetime.strptime(start_date, '%Y-%m-%d').timestamp())\n",
        "    end_timestamp = int(datetime.strptime(end_date, '%Y-%m-%d').timestamp())\n",
        "\n",
        "    url = f'https://discord.com/api/v9/channels/{channel_id}/messages'\n",
        "    messages_data = []\n",
        "    params = {\n",
        "        'limit': 100,  # Number of messages per request, adjust as needed\n",
        "    }\n",
        "\n",
        "    while True:\n",
        "        r = requests.get(url, headers=headers, params=params)\n",
        "        if r.status_code == 200:\n",
        "            json_data = r.json()\n",
        "            if not json_data:\n",
        "                break  # Break the loop if no more messages\n",
        "\n",
        "            for message in json_data:\n",
        "                timestamp = int(datetime.fromisoformat(message['timestamp']).timestamp())\n",
        "                if start_timestamp <= timestamp <= end_timestamp:\n",
        "                    content = message['content']\n",
        "                    user_id = message['author']['id'] if 'author' in message else None  # Get user ID\n",
        "                    messages_data.append({'Timestamp': message['timestamp'], 'Content': content, 'User_ID': user_id})\n",
        "\n",
        "                # Stop if messages are beyond the target date range\n",
        "                if timestamp < start_timestamp:\n",
        "                    return messages_data\n",
        "\n",
        "            params['before'] = json_data[-1]['id']  # Set the 'before' parameter for pagination\n",
        "        else:\n",
        "            print(f\"Failed to retrieve messages. Status code: {r.status_code}\")\n",
        "            return []\n",
        "\n",
        "    return messages_data\n",
        "\n",
        "# Define the target date range for extraction\n",
        "start_date = '2023-06-01'\n",
        "end_date = '2023-11-30'\n",
        "\n",
        "messages = retrieve_messages_with_user('867732042325688350', start_date, end_date)\n",
        "\n",
        "# Convert retrieved messages to DataFrame\n",
        "df = pd.DataFrame(messages)\n",
        "\n",
        "# Export to Excel\n",
        "file_name = 'discord_huddlemessages_june2023_to_Nov2023_with_users.xlsx'  # Change the file name if needed\n",
        "df.to_excel(file_name, index=False)\n",
        "print(f\"Messages successfully saved to {file_name}\")\n"
      ]
    },
    {
      "cell_type": "code",
      "execution_count": null,
      "metadata": {
        "colab": {
          "base_uri": "https://localhost:8080/"
        },
        "id": "Fe_cxONsNyc2",
        "outputId": "73ff4521-5a32-405a-ea54-8030c21126de"
      },
      "outputs": [
        {
          "output_type": "stream",
          "name": "stdout",
          "text": [
            "Messages successfully saved to discord_huddlemessages_Dec2023_to_Jan2024_with_users.xlsx\n"
          ]
        }
      ],
      "source": [
        "import requests\n",
        "import pandas as pd\n",
        "from datetime import datetime\n",
        "\n",
        "def retrieve_messages_with_user(channel_id, start_date, end_date):\n",
        "    headers = {\n",
        "        'Authorization': 'MTE2NTk1NzY5MzcwMjQxODQ0Mw.GOmqj0.l9llP1irQfGlhpOWXvtqVyuBRivPwgosxAhqBA'  # Replace with your bot token\n",
        "    }\n",
        "\n",
        "    # Convert start_date and end_date to timestamp\n",
        "    start_timestamp = int(datetime.strptime(start_date, '%Y-%m-%d').timestamp())\n",
        "    end_timestamp = int(datetime.strptime(end_date, '%Y-%m-%d').timestamp())\n",
        "\n",
        "    url = f'https://discord.com/api/v9/channels/{channel_id}/messages'\n",
        "    messages_data = []\n",
        "    params = {\n",
        "        'limit': 100,  # Number of messages per request, adjust as needed\n",
        "    }\n",
        "\n",
        "    while True:\n",
        "        r = requests.get(url, headers=headers, params=params)\n",
        "        if r.status_code == 200:\n",
        "            json_data = r.json()\n",
        "            if not json_data:\n",
        "                break  # Break the loop if no more messages\n",
        "\n",
        "            for message in json_data:\n",
        "                timestamp = int(datetime.fromisoformat(message['timestamp']).timestamp())\n",
        "                if start_timestamp <= timestamp <= end_timestamp:\n",
        "                    content = message['content']\n",
        "                    user_id = message['author']['id'] if 'author' in message else None  # Get user ID\n",
        "                    messages_data.append({'Timestamp': message['timestamp'], 'Content': content, 'User_ID': user_id})\n",
        "\n",
        "                # Stop if messages are beyond the target date range\n",
        "                if timestamp < start_timestamp:\n",
        "                    return messages_data\n",
        "\n",
        "            params['before'] = json_data[-1]['id']  # Set the 'before' parameter for pagination\n",
        "        else:\n",
        "            print(f\"Failed to retrieve messages. Status code: {r.status_code}\")\n",
        "            return []\n",
        "\n",
        "    return messages_data\n",
        "\n",
        "# Define the target date range for extraction\n",
        "start_date = '2023-12-01'\n",
        "end_date = '2024-01-31'\n",
        "\n",
        "messages = retrieve_messages_with_user('867732042325688350', start_date, end_date)\n",
        "\n",
        "# Convert retrieved messages to DataFrame\n",
        "df = pd.DataFrame(messages)\n",
        "\n",
        "# Export to Excel\n",
        "file_name = 'discord_huddlemessages_Dec2023_to_Jan2024_with_users.xlsx'  # Change the file name if needed\n",
        "df.to_excel(file_name, index=False)\n",
        "print(f\"Messages successfully saved to {file_name}\")\n"
      ]
    }
  ],
  "metadata": {
    "colab": {
      "provenance": [],
      "authorship_tag": "ABX9TyNtPIGjWpsYIfAYGGRSYRW6",
      "include_colab_link": true
    },
    "kernelspec": {
      "display_name": "Python 3",
      "name": "python3"
    },
    "language_info": {
      "name": "python"
    }
  },
  "nbformat": 4,
  "nbformat_minor": 0
}